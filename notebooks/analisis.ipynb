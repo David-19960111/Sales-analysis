{
 "cells": [
  {
   "cell_type": "code",
   "execution_count": 1,
   "metadata": {},
   "outputs": [],
   "source": [
    "import pandas as pd\n",
    "import numpy as np\n",
    "import matplotlib.pyplot as plt \n",
    "import seaborn as sns"
   ]
  },
  {
   "cell_type": "code",
   "execution_count": 5,
   "metadata": {},
   "outputs": [
    {
     "data": {
      "text/html": [
       "<div>\n",
       "<style scoped>\n",
       "    .dataframe tbody tr th:only-of-type {\n",
       "        vertical-align: middle;\n",
       "    }\n",
       "\n",
       "    .dataframe tbody tr th {\n",
       "        vertical-align: top;\n",
       "    }\n",
       "\n",
       "    .dataframe thead th {\n",
       "        text-align: right;\n",
       "    }\n",
       "</style>\n",
       "<table border=\"1\" class=\"dataframe\">\n",
       "  <thead>\n",
       "    <tr style=\"text-align: right;\">\n",
       "      <th></th>\n",
       "      <th>Fecha</th>\n",
       "      <th>Producto</th>\n",
       "      <th>Categoría</th>\n",
       "      <th>Precio</th>\n",
       "      <th>Cantidad</th>\n",
       "      <th>Ciudad</th>\n",
       "      <th>Método de pago</th>\n",
       "    </tr>\n",
       "  </thead>\n",
       "  <tbody>\n",
       "    <tr>\n",
       "      <th>0</th>\n",
       "      <td>2024-06-02</td>\n",
       "      <td>Auriculares</td>\n",
       "      <td>Ropa</td>\n",
       "      <td>121.34</td>\n",
       "      <td>5</td>\n",
       "      <td>Puebla</td>\n",
       "      <td>Transferencia</td>\n",
       "    </tr>\n",
       "    <tr>\n",
       "      <th>1</th>\n",
       "      <td>2024-03-26</td>\n",
       "      <td>Camiseta</td>\n",
       "      <td>Accesorios</td>\n",
       "      <td>209.76</td>\n",
       "      <td>4</td>\n",
       "      <td>Ciudad de México</td>\n",
       "      <td>Efectivo</td>\n",
       "    </tr>\n",
       "    <tr>\n",
       "      <th>2</th>\n",
       "      <td>2024-03-11</td>\n",
       "      <td>Laptop</td>\n",
       "      <td>Ropa</td>\n",
       "      <td>61.25</td>\n",
       "      <td>1</td>\n",
       "      <td>Tijuana</td>\n",
       "      <td>Transferencia</td>\n",
       "    </tr>\n",
       "    <tr>\n",
       "      <th>3</th>\n",
       "      <td>2024-01-29</td>\n",
       "      <td>Zapatos</td>\n",
       "      <td>Ropa</td>\n",
       "      <td>158.91</td>\n",
       "      <td>5</td>\n",
       "      <td>Monterrey</td>\n",
       "      <td>Efectivo</td>\n",
       "    </tr>\n",
       "    <tr>\n",
       "      <th>4</th>\n",
       "      <td>2024-05-18</td>\n",
       "      <td>Camiseta</td>\n",
       "      <td>Electrónica</td>\n",
       "      <td>198.00</td>\n",
       "      <td>4</td>\n",
       "      <td>Tijuana</td>\n",
       "      <td>Efectivo</td>\n",
       "    </tr>\n",
       "  </tbody>\n",
       "</table>\n",
       "</div>"
      ],
      "text/plain": [
       "        Fecha     Producto    Categoría  Precio  Cantidad            Ciudad  \\\n",
       "0  2024-06-02  Auriculares         Ropa  121.34         5            Puebla   \n",
       "1  2024-03-26     Camiseta   Accesorios  209.76         4  Ciudad de México   \n",
       "2  2024-03-11       Laptop         Ropa   61.25         1           Tijuana   \n",
       "3  2024-01-29      Zapatos         Ropa  158.91         5         Monterrey   \n",
       "4  2024-05-18     Camiseta  Electrónica  198.00         4           Tijuana   \n",
       "\n",
       "  Método de pago  \n",
       "0  Transferencia  \n",
       "1       Efectivo  \n",
       "2  Transferencia  \n",
       "3       Efectivo  \n",
       "4       Efectivo  "
      ]
     },
     "execution_count": 5,
     "metadata": {},
     "output_type": "execute_result"
    }
   ],
   "source": [
    "df = pd.read_csv(\"C:/Users/User/OneDrive/Escritorio/Analisis de Ventas/datos/datos_ventas.csv\")\n",
    "df.head()"
   ]
  },
  {
   "cell_type": "code",
   "execution_count": 6,
   "metadata": {},
   "outputs": [
    {
     "data": {
      "text/plain": [
       "(1000, 7)"
      ]
     },
     "execution_count": 6,
     "metadata": {},
     "output_type": "execute_result"
    }
   ],
   "source": [
    "df.shape"
   ]
  },
  {
   "cell_type": "code",
   "execution_count": 7,
   "metadata": {},
   "outputs": [
    {
     "name": "stdout",
     "output_type": "stream",
     "text": [
      "<class 'pandas.core.frame.DataFrame'>\n",
      "RangeIndex: 1000 entries, 0 to 999\n",
      "Data columns (total 7 columns):\n",
      " #   Column          Non-Null Count  Dtype  \n",
      "---  ------          --------------  -----  \n",
      " 0   Fecha           1000 non-null   object \n",
      " 1   Producto        1000 non-null   object \n",
      " 2   Categoría       1000 non-null   object \n",
      " 3   Precio          1000 non-null   float64\n",
      " 4   Cantidad        1000 non-null   int64  \n",
      " 5   Ciudad          1000 non-null   object \n",
      " 6   Método de pago  1000 non-null   object \n",
      "dtypes: float64(1), int64(1), object(5)\n",
      "memory usage: 54.8+ KB\n"
     ]
    }
   ],
   "source": [
    "df.info()"
   ]
  },
  {
   "cell_type": "code",
   "execution_count": 8,
   "metadata": {},
   "outputs": [
    {
     "data": {
      "text/plain": [
       "np.int64(0)"
      ]
     },
     "execution_count": 8,
     "metadata": {},
     "output_type": "execute_result"
    }
   ],
   "source": [
    "df.duplicated().sum()"
   ]
  },
  {
   "cell_type": "code",
   "execution_count": 9,
   "metadata": {},
   "outputs": [
    {
     "data": {
      "text/plain": [
       "Fecha             0\n",
       "Producto          0\n",
       "Categoría         0\n",
       "Precio            0\n",
       "Cantidad          0\n",
       "Ciudad            0\n",
       "Método de pago    0\n",
       "dtype: int64"
      ]
     },
     "execution_count": 9,
     "metadata": {},
     "output_type": "execute_result"
    }
   ],
   "source": [
    "df.isnull().sum()"
   ]
  },
  {
   "cell_type": "code",
   "execution_count": null,
   "metadata": {},
   "outputs": [],
   "source": []
  }
 ],
 "metadata": {
  "kernelspec": {
   "display_name": "Python 3",
   "language": "python",
   "name": "python3"
  },
  "language_info": {
   "codemirror_mode": {
    "name": "ipython",
    "version": 3
   },
   "file_extension": ".py",
   "mimetype": "text/x-python",
   "name": "python",
   "nbconvert_exporter": "python",
   "pygments_lexer": "ipython3",
   "version": "3.11.9"
  }
 },
 "nbformat": 4,
 "nbformat_minor": 2
}
