{
 "cells": [
  {
   "cell_type": "code",
   "execution_count": 1,
   "metadata": {},
   "outputs": [],
   "source": [
    "import pandas as pd\n",
    "import numpy as np\n",
    "import matplotlib.pyplot as plt \n",
    "import seaborn as sns"
   ]
  },
  {
   "cell_type": "code",
   "execution_count": 31,
   "metadata": {},
   "outputs": [],
   "source": [
    "df = pd.read_csv(\"C:/Users/User/OneDrive/Escritorio/Analisis de Ventas/datos/datos_ventas.csv\")\n",
    "df[\"Fecha\"] = pd.to_datetime(df[\"Fecha\"])\n",
    "df[\"Mes\"] = df[\"Fecha\"].dt.month_name()"
   ]
  },
  {
   "cell_type": "code",
   "execution_count": 32,
   "metadata": {},
   "outputs": [
    {
     "data": {
      "text/html": [
       "<div>\n",
       "<style scoped>\n",
       "    .dataframe tbody tr th:only-of-type {\n",
       "        vertical-align: middle;\n",
       "    }\n",
       "\n",
       "    .dataframe tbody tr th {\n",
       "        vertical-align: top;\n",
       "    }\n",
       "\n",
       "    .dataframe thead th {\n",
       "        text-align: right;\n",
       "    }\n",
       "</style>\n",
       "<table border=\"1\" class=\"dataframe\">\n",
       "  <thead>\n",
       "    <tr style=\"text-align: right;\">\n",
       "      <th></th>\n",
       "      <th>Fecha</th>\n",
       "      <th>Producto</th>\n",
       "      <th>Categoría</th>\n",
       "      <th>Precio</th>\n",
       "      <th>Cantidad</th>\n",
       "      <th>Ciudad</th>\n",
       "      <th>Método de pago</th>\n",
       "      <th>Mes</th>\n",
       "    </tr>\n",
       "  </thead>\n",
       "  <tbody>\n",
       "    <tr>\n",
       "      <th>0</th>\n",
       "      <td>2024-06-02</td>\n",
       "      <td>Auriculares</td>\n",
       "      <td>Ropa</td>\n",
       "      <td>121.34</td>\n",
       "      <td>5</td>\n",
       "      <td>Puebla</td>\n",
       "      <td>Transferencia</td>\n",
       "      <td>June</td>\n",
       "    </tr>\n",
       "    <tr>\n",
       "      <th>1</th>\n",
       "      <td>2024-03-26</td>\n",
       "      <td>Camiseta</td>\n",
       "      <td>Accesorios</td>\n",
       "      <td>209.76</td>\n",
       "      <td>4</td>\n",
       "      <td>Ciudad de México</td>\n",
       "      <td>Efectivo</td>\n",
       "      <td>March</td>\n",
       "    </tr>\n",
       "    <tr>\n",
       "      <th>2</th>\n",
       "      <td>2024-03-11</td>\n",
       "      <td>Laptop</td>\n",
       "      <td>Ropa</td>\n",
       "      <td>61.25</td>\n",
       "      <td>1</td>\n",
       "      <td>Tijuana</td>\n",
       "      <td>Transferencia</td>\n",
       "      <td>March</td>\n",
       "    </tr>\n",
       "    <tr>\n",
       "      <th>3</th>\n",
       "      <td>2024-01-29</td>\n",
       "      <td>Zapatos</td>\n",
       "      <td>Ropa</td>\n",
       "      <td>158.91</td>\n",
       "      <td>5</td>\n",
       "      <td>Monterrey</td>\n",
       "      <td>Efectivo</td>\n",
       "      <td>January</td>\n",
       "    </tr>\n",
       "    <tr>\n",
       "      <th>4</th>\n",
       "      <td>2024-05-18</td>\n",
       "      <td>Camiseta</td>\n",
       "      <td>Electrónica</td>\n",
       "      <td>198.00</td>\n",
       "      <td>4</td>\n",
       "      <td>Tijuana</td>\n",
       "      <td>Efectivo</td>\n",
       "      <td>May</td>\n",
       "    </tr>\n",
       "  </tbody>\n",
       "</table>\n",
       "</div>"
      ],
      "text/plain": [
       "       Fecha     Producto    Categoría  Precio  Cantidad            Ciudad  \\\n",
       "0 2024-06-02  Auriculares         Ropa  121.34         5            Puebla   \n",
       "1 2024-03-26     Camiseta   Accesorios  209.76         4  Ciudad de México   \n",
       "2 2024-03-11       Laptop         Ropa   61.25         1           Tijuana   \n",
       "3 2024-01-29      Zapatos         Ropa  158.91         5         Monterrey   \n",
       "4 2024-05-18     Camiseta  Electrónica  198.00         4           Tijuana   \n",
       "\n",
       "  Método de pago      Mes  \n",
       "0  Transferencia     June  \n",
       "1       Efectivo    March  \n",
       "2  Transferencia    March  \n",
       "3       Efectivo  January  \n",
       "4       Efectivo      May  "
      ]
     },
     "execution_count": 32,
     "metadata": {},
     "output_type": "execute_result"
    }
   ],
   "source": [
    "df.head()"
   ]
  },
  {
   "cell_type": "code",
   "execution_count": 33,
   "metadata": {},
   "outputs": [
    {
     "data": {
      "text/plain": [
       "(1000, 8)"
      ]
     },
     "execution_count": 33,
     "metadata": {},
     "output_type": "execute_result"
    }
   ],
   "source": [
    "df.shape"
   ]
  },
  {
   "cell_type": "code",
   "execution_count": 34,
   "metadata": {},
   "outputs": [
    {
     "name": "stdout",
     "output_type": "stream",
     "text": [
      "<class 'pandas.core.frame.DataFrame'>\n",
      "RangeIndex: 1000 entries, 0 to 999\n",
      "Data columns (total 8 columns):\n",
      " #   Column          Non-Null Count  Dtype         \n",
      "---  ------          --------------  -----         \n",
      " 0   Fecha           1000 non-null   datetime64[ns]\n",
      " 1   Producto        1000 non-null   object        \n",
      " 2   Categoría       1000 non-null   object        \n",
      " 3   Precio          1000 non-null   float64       \n",
      " 4   Cantidad        1000 non-null   int64         \n",
      " 5   Ciudad          1000 non-null   object        \n",
      " 6   Método de pago  1000 non-null   object        \n",
      " 7   Mes             1000 non-null   object        \n",
      "dtypes: datetime64[ns](1), float64(1), int64(1), object(5)\n",
      "memory usage: 62.6+ KB\n"
     ]
    }
   ],
   "source": [
    "df.info()"
   ]
  },
  {
   "cell_type": "code",
   "execution_count": 35,
   "metadata": {},
   "outputs": [
    {
     "data": {
      "text/plain": [
       "np.int64(0)"
      ]
     },
     "execution_count": 35,
     "metadata": {},
     "output_type": "execute_result"
    }
   ],
   "source": [
    "df.duplicated().sum()"
   ]
  },
  {
   "cell_type": "code",
   "execution_count": 36,
   "metadata": {},
   "outputs": [
    {
     "data": {
      "text/plain": [
       "Fecha             0\n",
       "Producto          0\n",
       "Categoría         0\n",
       "Precio            0\n",
       "Cantidad          0\n",
       "Ciudad            0\n",
       "Método de pago    0\n",
       "Mes               0\n",
       "dtype: int64"
      ]
     },
     "execution_count": 36,
     "metadata": {},
     "output_type": "execute_result"
    }
   ],
   "source": [
    "df.isnull().sum()"
   ]
  },
  {
   "cell_type": "code",
   "execution_count": 37,
   "metadata": {},
   "outputs": [
    {
     "data": {
      "text/html": [
       "<div>\n",
       "<style scoped>\n",
       "    .dataframe tbody tr th:only-of-type {\n",
       "        vertical-align: middle;\n",
       "    }\n",
       "\n",
       "    .dataframe tbody tr th {\n",
       "        vertical-align: top;\n",
       "    }\n",
       "\n",
       "    .dataframe thead th {\n",
       "        text-align: right;\n",
       "    }\n",
       "</style>\n",
       "<table border=\"1\" class=\"dataframe\">\n",
       "  <thead>\n",
       "    <tr style=\"text-align: right;\">\n",
       "      <th></th>\n",
       "      <th>Fecha</th>\n",
       "      <th>Precio</th>\n",
       "      <th>Cantidad</th>\n",
       "    </tr>\n",
       "  </thead>\n",
       "  <tbody>\n",
       "    <tr>\n",
       "      <th>count</th>\n",
       "      <td>1000</td>\n",
       "      <td>1000.00</td>\n",
       "      <td>1000.00</td>\n",
       "    </tr>\n",
       "    <tr>\n",
       "      <th>mean</th>\n",
       "      <td>2024-07-08 00:27:21.600000256</td>\n",
       "      <td>253.96</td>\n",
       "      <td>3.00</td>\n",
       "    </tr>\n",
       "    <tr>\n",
       "      <th>min</th>\n",
       "      <td>2024-01-09 00:00:00</td>\n",
       "      <td>10.07</td>\n",
       "      <td>1.00</td>\n",
       "    </tr>\n",
       "    <tr>\n",
       "      <th>25%</th>\n",
       "      <td>2024-04-08 00:00:00</td>\n",
       "      <td>135.88</td>\n",
       "      <td>2.00</td>\n",
       "    </tr>\n",
       "    <tr>\n",
       "      <th>50%</th>\n",
       "      <td>2024-07-08 00:00:00</td>\n",
       "      <td>258.01</td>\n",
       "      <td>3.00</td>\n",
       "    </tr>\n",
       "    <tr>\n",
       "      <th>75%</th>\n",
       "      <td>2024-10-10 00:00:00</td>\n",
       "      <td>371.68</td>\n",
       "      <td>4.00</td>\n",
       "    </tr>\n",
       "    <tr>\n",
       "      <th>max</th>\n",
       "      <td>2025-01-08 00:00:00</td>\n",
       "      <td>498.96</td>\n",
       "      <td>5.00</td>\n",
       "    </tr>\n",
       "    <tr>\n",
       "      <th>std</th>\n",
       "      <td>NaN</td>\n",
       "      <td>139.64</td>\n",
       "      <td>1.41</td>\n",
       "    </tr>\n",
       "  </tbody>\n",
       "</table>\n",
       "</div>"
      ],
      "text/plain": [
       "                               Fecha   Precio  Cantidad\n",
       "count                           1000  1000.00   1000.00\n",
       "mean   2024-07-08 00:27:21.600000256   253.96      3.00\n",
       "min              2024-01-09 00:00:00    10.07      1.00\n",
       "25%              2024-04-08 00:00:00   135.88      2.00\n",
       "50%              2024-07-08 00:00:00   258.01      3.00\n",
       "75%              2024-10-10 00:00:00   371.68      4.00\n",
       "max              2025-01-08 00:00:00   498.96      5.00\n",
       "std                              NaN   139.64      1.41"
      ]
     },
     "execution_count": 37,
     "metadata": {},
     "output_type": "execute_result"
    }
   ],
   "source": [
    "df.describe().round(2)"
   ]
  },
  {
   "cell_type": "code",
   "execution_count": 38,
   "metadata": {},
   "outputs": [
    {
     "data": {
      "text/html": [
       "<div>\n",
       "<style scoped>\n",
       "    .dataframe tbody tr th:only-of-type {\n",
       "        vertical-align: middle;\n",
       "    }\n",
       "\n",
       "    .dataframe tbody tr th {\n",
       "        vertical-align: top;\n",
       "    }\n",
       "\n",
       "    .dataframe thead th {\n",
       "        text-align: right;\n",
       "    }\n",
       "</style>\n",
       "<table border=\"1\" class=\"dataframe\">\n",
       "  <thead>\n",
       "    <tr style=\"text-align: right;\">\n",
       "      <th></th>\n",
       "      <th>Fecha</th>\n",
       "      <th>Producto</th>\n",
       "      <th>Categoría</th>\n",
       "      <th>Precio</th>\n",
       "      <th>Cantidad</th>\n",
       "      <th>Ciudad</th>\n",
       "      <th>Método de pago</th>\n",
       "      <th>Mes</th>\n",
       "    </tr>\n",
       "  </thead>\n",
       "  <tbody>\n",
       "    <tr>\n",
       "      <th>0</th>\n",
       "      <td>2024-06-02</td>\n",
       "      <td>Auriculares</td>\n",
       "      <td>Ropa</td>\n",
       "      <td>121.34</td>\n",
       "      <td>5</td>\n",
       "      <td>Puebla</td>\n",
       "      <td>Transferencia</td>\n",
       "      <td>June</td>\n",
       "    </tr>\n",
       "    <tr>\n",
       "      <th>1</th>\n",
       "      <td>2024-03-26</td>\n",
       "      <td>Camiseta</td>\n",
       "      <td>Accesorios</td>\n",
       "      <td>209.76</td>\n",
       "      <td>4</td>\n",
       "      <td>Ciudad de México</td>\n",
       "      <td>Efectivo</td>\n",
       "      <td>March</td>\n",
       "    </tr>\n",
       "    <tr>\n",
       "      <th>2</th>\n",
       "      <td>2024-03-11</td>\n",
       "      <td>Laptop</td>\n",
       "      <td>Ropa</td>\n",
       "      <td>61.25</td>\n",
       "      <td>1</td>\n",
       "      <td>Tijuana</td>\n",
       "      <td>Transferencia</td>\n",
       "      <td>March</td>\n",
       "    </tr>\n",
       "    <tr>\n",
       "      <th>3</th>\n",
       "      <td>2024-01-29</td>\n",
       "      <td>Zapatos</td>\n",
       "      <td>Ropa</td>\n",
       "      <td>158.91</td>\n",
       "      <td>5</td>\n",
       "      <td>Monterrey</td>\n",
       "      <td>Efectivo</td>\n",
       "      <td>January</td>\n",
       "    </tr>\n",
       "  </tbody>\n",
       "</table>\n",
       "</div>"
      ],
      "text/plain": [
       "       Fecha     Producto   Categoría  Precio  Cantidad            Ciudad  \\\n",
       "0 2024-06-02  Auriculares        Ropa  121.34         5            Puebla   \n",
       "1 2024-03-26     Camiseta  Accesorios  209.76         4  Ciudad de México   \n",
       "2 2024-03-11       Laptop        Ropa   61.25         1           Tijuana   \n",
       "3 2024-01-29      Zapatos        Ropa  158.91         5         Monterrey   \n",
       "\n",
       "  Método de pago      Mes  \n",
       "0  Transferencia     June  \n",
       "1       Efectivo    March  \n",
       "2  Transferencia    March  \n",
       "3       Efectivo  January  "
      ]
     },
     "execution_count": 38,
     "metadata": {},
     "output_type": "execute_result"
    }
   ],
   "source": [
    "df.head(4)"
   ]
  },
  {
   "cell_type": "markdown",
   "metadata": {},
   "source": [
    "### Exploratory Data Analysis"
   ]
  },
  {
   "cell_type": "code",
   "execution_count": null,
   "metadata": {},
   "outputs": [],
   "source": []
  }
 ],
 "metadata": {
  "kernelspec": {
   "display_name": "Python 3",
   "language": "python",
   "name": "python3"
  },
  "language_info": {
   "codemirror_mode": {
    "name": "ipython",
    "version": 3
   },
   "file_extension": ".py",
   "mimetype": "text/x-python",
   "name": "python",
   "nbconvert_exporter": "python",
   "pygments_lexer": "ipython3",
   "version": "3.11.9"
  }
 },
 "nbformat": 4,
 "nbformat_minor": 2
}
